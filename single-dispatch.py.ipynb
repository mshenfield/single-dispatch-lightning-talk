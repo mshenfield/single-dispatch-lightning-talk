{
 "cells": [
  {
   "cell_type": "code",
   "execution_count": null,
   "metadata": {
    "collapsed": true
   },
   "outputs": [],
   "source": [
    "class Circle():\n",
    "    def __init__(self, radius):\n",
    "        self.radius = radius\n",
    "\n",
    "class Rectangle():\n",
    "    def __init__(self, height, width):\n",
    "        self.height = height\n",
    "        self.width = width"
   ]
  },
  {
   "cell_type": "code",
   "execution_count": null,
   "metadata": {},
   "outputs": [],
   "source": [
    "import math\n",
    "\n",
    "def area_1(shape):\n",
    "    if isinstance(shape, Circle):\n",
    "        return math.pi * (shape.radius ** 2)\n",
    "    elif isinstance(shape, Rectangle):\n",
    "        return shape.height * shape.width\n",
    "    else:\n",
    "        raise NotImplementedException()\n",
    "\n",
    "circle = Circle(1)\n",
    "print(area_1(circle))\n",
    "\n",
    "rect = Rectangle(3, 5)\n",
    "print(area_1(rect))"
   ]
  },
  {
   "cell_type": "code",
   "execution_count": 8,
   "metadata": {},
   "outputs": [
    {
     "name": "stdout",
     "output_type": "stream",
     "text": [
      "`singledispatch` let's you define a common interface without having access to a base class or source code\n"
     ]
    }
   ],
   "source": [
    "from functools import singledispatch\n",
    "print(\"`singledispatch` let's you define a common interface without having access to a base class or source code\")\n",
    "singledispatch?"
   ]
  },
  {
   "cell_type": "code",
   "execution_count": null,
   "metadata": {},
   "outputs": [],
   "source": [
    "@singledispatch\n",
    "def area_2(shape):\n",
    "    raise NotImplementedException()\n",
    "\n",
    "@area_2.register(Circle)\n",
    "def _(circle):\n",
    "    return math.pi * (circle.radius ** 2)\n",
    "\n",
    "@area_2.register(Rectangle)\n",
    "def _(rect):\n",
    "    return rect.height * rect.width\n",
    "\n",
    "print(area_2(circle))\n",
    "print(area_2(rect))"
   ]
  }
 ],
 "metadata": {
  "kernelspec": {
   "display_name": "Python 3",
   "language": "python",
   "name": "python3"
  },
  "language_info": {
   "codemirror_mode": {
    "name": "ipython",
    "version": 3
   },
   "file_extension": ".py",
   "mimetype": "text/x-python",
   "name": "python",
   "nbconvert_exporter": "python",
   "pygments_lexer": "ipython3",
   "version": "3.5.1"
  }
 },
 "nbformat": 4,
 "nbformat_minor": 2
}
