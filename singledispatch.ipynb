{
 "cells": [
  {
   "cell_type": "code",
   "execution_count": 1,
   "metadata": {},
   "outputs": [
    {
     "data": {
      "text/plain": [
       "[1, 2, 3, 4, 5, 6, 7]"
      ]
     },
     "execution_count": 1,
     "metadata": {},
     "output_type": "execute_result"
    }
   ],
   "source": [
    "\"\"\"hyperextend: A safe list.extend\n",
    "\n",
    "Appends items to list if they're not iterable. Otherwise it extends the\n",
    "list with the item\n",
    "\"\"\"\n",
    "from collections.abc import Iterable\n",
    "\n",
    "def hyperextend(item, l):\n",
    "    if isinstance(item, Iterable):\n",
    "        l.extend(item)\n",
    "    else:\n",
    "        l.append(item)\n",
    "    return l\n",
    "\n",
    "numbers = [1, 2, 3]\n",
    "hyperextend([4, 5, 6], numbers)\n",
    "hyperextend(7, numbers)"
   ]
  },
  {
   "cell_type": "markdown",
   "metadata": {},
   "source": [
    "<img src=\"gifs/paul-rudd-meh.gif\">"
   ]
  },
  {
   "cell_type": "code",
   "execution_count": 2,
   "metadata": {
    "collapsed": true
   },
   "outputs": [],
   "source": [
    "from functools import singledispatch\n",
    "\n",
    "singledispatch?"
   ]
  },
  {
   "cell_type": "code",
   "execution_count": 3,
   "metadata": {},
   "outputs": [
    {
     "data": {
      "text/plain": [
       "['a', 'b', 'c', 'easy as', 1, 2, 3]"
      ]
     },
     "execution_count": 3,
     "metadata": {},
     "output_type": "execute_result"
    }
   ],
   "source": [
    "\"\"\"Reimplement hyperextend using singledispatch\"\"\"\n",
    "\n",
    "@singledispatch\n",
    "def hyperextend(item, l):\n",
    "    \"\"\"Append by default\"\"\"\n",
    "    l.append(item)\n",
    "    return l\n",
    "\n",
    "@hyperextend.register(Iterable)\n",
    "def _(item, l):\n",
    "    \"\"\"Extend for Iterable items\"\"\"\n",
    "    l.extend(item)\n",
    "    return l\n",
    "    \n",
    "letters = ['a', 'b', 'c']\n",
    "hyperextend(['easy as', 1, 2], letters)\n",
    "hyperextend(3, letters)"
   ]
  },
  {
   "cell_type": "markdown",
   "metadata": {},
   "source": [
    "<img src=\"gifs/good-shit-right.gif\">"
   ]
  },
  {
   "cell_type": "code",
   "execution_count": 4,
   "metadata": {},
   "outputs": [
    {
     "data": {
      "text/plain": [
       "'Stoop kids afraid to leave his stoop!'"
      ]
     },
     "execution_count": 4,
     "metadata": {},
     "output_type": "execute_result"
    }
   ],
   "source": [
    "\"\"\"raze: flatten anything\n",
    "\n",
    "For example:\n",
    ">>> raze([\n",
    "    1, 2, {\n",
    "        '3': [4, {\n",
    "            ('5', 6): (7, 8)\n",
    "        }]\n",
    "    }\n",
    "])\n",
    "# [1, 2, 3, 4, 5, 6, 7, 8]\n",
    "\"\"\"\n",
    "from functools import singledispatch\n",
    "\n",
    "@singledispatch\n",
    "def raze(item):\n",
    "    \"\"\"Raze returns the item unchanged by default\"\"\"\n",
    "    return item\n",
    "\n",
    "@raze.register(Iterable)  # noqa\n",
    "def _(l):\n",
    "    items = []\n",
    "    for item in l:\n",
    "        result = raze(item)\n",
    "        hyperextend(result, items)\n",
    "    return items\n",
    "\n",
    "@raze.register(str)\n",
    "def _(s):\n",
    "    return s\n",
    "\n",
    "@raze.register(dict)\n",
    "def _(d):\n",
    "    \"\"\"Flatten dictionaries by treating it as a list of key, value tuples\"\"\"\n",
    "    items = []\n",
    "    for key, value in d.items():\n",
    "        result = raze((key, value))\n",
    "        hyperextend(result, items)\n",
    "    return items\n",
    "\n",
    "nested_message = {'S': {'to': {('o', 'p'): [' ', ['ki', ['ds ', {'af': 'raid'}, ' ', ['t', 'o ', 'le'], {'ave': [' ', 'hi', 's', ' ', 'sto', 'op!']}]]]}}}\n",
    "\n",
    "message = raze(nested_message)\n",
    "''.join(message)"
   ]
  },
  {
   "cell_type": "markdown",
   "metadata": {},
   "source": [
    "<img src=\"gifs/groovy-arnold-end.gif\">"
   ]
  },
  {
   "cell_type": "code",
   "execution_count": null,
   "metadata": {
    "collapsed": true
   },
   "outputs": [],
   "source": []
  }
 ],
 "metadata": {
  "kernelspec": {
   "display_name": "Python 3",
   "language": "python",
   "name": "python3"
  },
  "language_info": {
   "codemirror_mode": {
    "name": "ipython",
    "version": 3
   },
   "file_extension": ".py",
   "mimetype": "text/x-python",
   "name": "python",
   "nbconvert_exporter": "python",
   "pygments_lexer": "ipython3",
   "version": "3.5.1"
  }
 },
 "nbformat": 4,
 "nbformat_minor": 2
}
